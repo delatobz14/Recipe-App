{
 "cells": [
  {
   "cell_type": "code",
   "execution_count": 41,
   "id": "402df957",
   "metadata": {},
   "outputs": [],
   "source": [
    "import dash\n",
    "import dash_core_components as dcc\n",
    "import dash_html_components as html\n",
    "from dash.dependencies import Input, Output\n",
    "import pandas as pd\n",
    "from recipe_scrapers import scrape_me\n",
    "\n",
    "# Add favourite recipes\n",
    "loved_recipes = [\"https://www.gousto.co.uk/cookbook/recipes/chicken-breast-pathia-with-turmeric-rice-and-naan\",\"https://www.gousto.co.uk/cookbook/chicken-recipes/quick-shredded-hoisin-chicken-wraps\",\n",
    "                \"https://www.gousto.co.uk/cookbook/chicken-recipes/chilli-chicken-cashew-noodles\",\"https://www.gousto.co.uk/cookbook/lamb-recipes/moor-ish-lamb-sweet-potato-tagine\",\n",
    "                \"https://www.gousto.co.uk/cookbook/fish-recipes/goan-fish-spinach-curry-coriander-rice\",\"https://www.gousto.co.uk/cookbook/beef-recipes/ultimate-cheeseburger-with-bacon-rosemary-fries\"\n",
    "                ,\"https://www.gousto.co.uk/cookbook/recipes/korean-fried-chicken-with-yang-nyum-sauce\",\"https://www.gousto.co.uk/cookbook/recipes/paprika-paneer-with-tomato-coconut-dal\",\n",
    "                \"https://www.gousto.co.uk/cookbook/recipes/simply-perfect-lean-beef-spag-bol\",\"https://www.gousto.co.uk/cookbook/recipes/char-siu-style-pork-bao-buns-with-mooli-slaw-loaded-fries\",\n",
    "                \"https://www.gousto.co.uk/cookbook/recipes/smoky-lean-beef-enchiladas-with-fresh-tomato-salsa\"]"
   ]
  },
  {
   "cell_type": "markdown",
   "id": "78e9ee98",
   "metadata": {},
   "source": [
    "#### Breaking down recipes into dataframe"
   ]
  },
  {
   "cell_type": "code",
   "execution_count": 42,
   "id": "27df81dc",
   "metadata": {},
   "outputs": [
    {
     "name": "stderr",
     "output_type": "stream",
     "text": [
      "C:\\Users\\Tobi.Jolaolu\\AppData\\Local\\Temp\\ipykernel_16780\\166239319.py:15: FutureWarning:\n",
      "\n",
      "The frame.append method is deprecated and will be removed from pandas in a future version. Use pandas.concat instead.\n",
      "\n",
      "C:\\Users\\Tobi.Jolaolu\\AppData\\Local\\Temp\\ipykernel_16780\\166239319.py:15: FutureWarning:\n",
      "\n",
      "The frame.append method is deprecated and will be removed from pandas in a future version. Use pandas.concat instead.\n",
      "\n",
      "C:\\Users\\Tobi.Jolaolu\\AppData\\Local\\Temp\\ipykernel_16780\\166239319.py:15: FutureWarning:\n",
      "\n",
      "The frame.append method is deprecated and will be removed from pandas in a future version. Use pandas.concat instead.\n",
      "\n",
      "C:\\Users\\Tobi.Jolaolu\\AppData\\Local\\Temp\\ipykernel_16780\\166239319.py:15: FutureWarning:\n",
      "\n",
      "The frame.append method is deprecated and will be removed from pandas in a future version. Use pandas.concat instead.\n",
      "\n",
      "C:\\Users\\Tobi.Jolaolu\\AppData\\Local\\Temp\\ipykernel_16780\\166239319.py:15: FutureWarning:\n",
      "\n",
      "The frame.append method is deprecated and will be removed from pandas in a future version. Use pandas.concat instead.\n",
      "\n",
      "C:\\Users\\Tobi.Jolaolu\\AppData\\Local\\Temp\\ipykernel_16780\\166239319.py:15: FutureWarning:\n",
      "\n",
      "The frame.append method is deprecated and will be removed from pandas in a future version. Use pandas.concat instead.\n",
      "\n",
      "C:\\Users\\Tobi.Jolaolu\\AppData\\Local\\Temp\\ipykernel_16780\\166239319.py:15: FutureWarning:\n",
      "\n",
      "The frame.append method is deprecated and will be removed from pandas in a future version. Use pandas.concat instead.\n",
      "\n",
      "C:\\Users\\Tobi.Jolaolu\\AppData\\Local\\Temp\\ipykernel_16780\\166239319.py:15: FutureWarning:\n",
      "\n",
      "The frame.append method is deprecated and will be removed from pandas in a future version. Use pandas.concat instead.\n",
      "\n",
      "C:\\Users\\Tobi.Jolaolu\\AppData\\Local\\Temp\\ipykernel_16780\\166239319.py:15: FutureWarning:\n",
      "\n",
      "The frame.append method is deprecated and will be removed from pandas in a future version. Use pandas.concat instead.\n",
      "\n",
      "C:\\Users\\Tobi.Jolaolu\\AppData\\Local\\Temp\\ipykernel_16780\\166239319.py:15: FutureWarning:\n",
      "\n",
      "The frame.append method is deprecated and will be removed from pandas in a future version. Use pandas.concat instead.\n",
      "\n",
      "C:\\Users\\Tobi.Jolaolu\\AppData\\Local\\Temp\\ipykernel_16780\\166239319.py:15: FutureWarning:\n",
      "\n",
      "The frame.append method is deprecated and will be removed from pandas in a future version. Use pandas.concat instead.\n",
      "\n"
     ]
    }
   ],
   "source": [
    "# Create an empty DataFrame\n",
    "recipe_df = pd.DataFrame(columns=['Title', 'Image', 'Time','Ingredients', 'Instructions', 'Instructions List', 'Yields'])\n",
    "\n",
    "for meal in loved_recipes:\n",
    "    scraper = scrape_me(meal)\n",
    "    title = scraper.title()\n",
    "    time = scraper.total_time()\n",
    "    image = scraper.image()\n",
    "    ingredients = scraper.ingredients()\n",
    "    instructions = scraper.instructions()\n",
    "    instructions_list = scraper.instructions_list()\n",
    "    yields = scraper.yields()\n",
    "\n",
    "    \n",
    "    recipe_df = recipe_df.append({'Title': title,\n",
    "                                   'Image': image,\n",
    "                                   'Time': time,\n",
    "                                   'Ingredients':ingredients,\n",
    "                                   'Instructions': instructions,\n",
    "                                   'Instructions List': instructions_list,\n",
    "                                   'Yields': yields}, ignore_index=True)\n"
   ]
  },
  {
   "cell_type": "code",
   "execution_count": 61,
   "id": "a563f7f9",
   "metadata": {},
   "outputs": [],
   "source": [
    "recipe_df.head()"
   ]
  },
  {
   "cell_type": "markdown",
   "id": "1d62b102",
   "metadata": {},
   "source": [
    "#### Creating Dash App to select meals, output is ingredients and instructions"
   ]
  },
  {
   "cell_type": "code",
   "execution_count": 56,
   "id": "62a7992f",
   "metadata": {},
   "outputs": [
    {
     "name": "stdout",
     "output_type": "stream",
     "text": [
      "Dash is running on http://127.0.0.1:8050/\n",
      "\n"
     ]
    },
    {
     "name": "stderr",
     "output_type": "stream",
     "text": [
      "INFO:dash.dash:Dash is running on http://127.0.0.1:8050/\n",
      "\n"
     ]
    },
    {
     "name": "stdout",
     "output_type": "stream",
     "text": [
      " * Serving Flask app \"__main__\" (lazy loading)\n",
      " * Environment: production\n",
      "\u001b[31m   WARNING: This is a development server. Do not use it in a production deployment.\u001b[0m\n",
      "\u001b[2m   Use a production WSGI server instead.\u001b[0m\n",
      " * Debug mode: off\n"
     ]
    }
   ],
   "source": [
    "# \n",
    "app = dash.Dash(__name__)\n",
    "\n",
    "# Create a list of available meal options\n",
    "meal_options = [{'label': title, 'value': title} for title in recipe_df['Title']]\n",
    "\n",
    "# Define the layout\n",
    "app.layout = html.Div([\n",
    "    html.H1('Recipe Ingredients and Instructions'),\n",
    "    dcc.Dropdown(\n",
    "        id='meal-dropdown',\n",
    "        options=meal_options,\n",
    "        placeholder='Select meal(s)',\n",
    "        multi=True\n",
    "    ),\n",
    "    html.Div(id='output-ingredients'),\n",
    "    html.Div(id='output-instructions')\n",
    "])\n",
    "\n",
    "# Define the callback function for ingredients\n",
    "@app.callback(\n",
    "    Output('output-ingredients', 'children'),\n",
    "    [Input('meal-dropdown', 'value')]\n",
    ")\n",
    "def display_ingredients(selected_meals):\n",
    "    if selected_meals:\n",
    "        ingredients = []\n",
    "        for meal in selected_meals:\n",
    "            meal_ingredients = recipe_df.loc[recipe_df['Title'] == meal, 'Ingredients'].values[0]\n",
    "            meal_ingredients_formatted = ', '.join(meal_ingredients)\n",
    "            ingredients.append(html.Div([\n",
    "                html.H3(f'Ingredients for {meal}:'),\n",
    "                dcc.Markdown(meal_ingredients_formatted)\n",
    "            ]))\n",
    "        return ingredients\n",
    "    else:\n",
    "        return html.Div()\n",
    "\n",
    "# Define the callback function for instructions\n",
    "@app.callback(\n",
    "    Output('output-instructions', 'children'),\n",
    "    [Input('meal-dropdown', 'value')]\n",
    ")\n",
    "def display_instructions(selected_meals):\n",
    "    if selected_meals:\n",
    "        instructions = []\n",
    "        for meal in selected_meals:\n",
    "            meal_instructions = recipe_df.loc[recipe_df['Title'] == meal, 'Instructions List'].values[0]\n",
    "            meal_instructions_formatted = '\\n'.join(meal_instructions)\n",
    "            instructions.append(html.Div([\n",
    "                html.H3(f'Instructions for {meal}:'),\n",
    "                dcc.Markdown(meal_instructions_formatted)\n",
    "            ]))\n",
    "        return instructions\n",
    "    else:\n",
    "        return html.Div()\n",
    "\n",
    "# Run the app\n",
    "if __name__ == '__main__':\n",
    "    app.run_server()\n",
    "    \n",
    "# Click on link to open up WebApp"
   ]
  },
  {
   "cell_type": "code",
   "execution_count": null,
   "id": "77f76a11",
   "metadata": {},
   "outputs": [],
   "source": []
  }
 ],
 "metadata": {
  "kernelspec": {
   "display_name": "Python 3 (ipykernel)",
   "language": "python",
   "name": "python3"
  },
  "language_info": {
   "codemirror_mode": {
    "name": "ipython",
    "version": 3
   },
   "file_extension": ".py",
   "mimetype": "text/x-python",
   "name": "python",
   "nbconvert_exporter": "python",
   "pygments_lexer": "ipython3",
   "version": "3.9.13"
  }
 },
 "nbformat": 4,
 "nbformat_minor": 5
}
